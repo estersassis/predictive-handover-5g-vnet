{
 "cells": [
  {
   "cell_type": "code",
   "execution_count": 1,
   "id": "24145223",
   "metadata": {},
   "outputs": [
    {
     "data": {
      "text/html": [
       "<div>\n",
       "<style scoped>\n",
       "    .dataframe tbody tr th:only-of-type {\n",
       "        vertical-align: middle;\n",
       "    }\n",
       "\n",
       "    .dataframe tbody tr th {\n",
       "        vertical-align: top;\n",
       "    }\n",
       "\n",
       "    .dataframe thead th {\n",
       "        text-align: right;\n",
       "    }\n",
       "</style>\n",
       "<table border=\"1\" class=\"dataframe\">\n",
       "  <thead>\n",
       "    <tr style=\"text-align: right;\">\n",
       "      <th></th>\n",
       "      <th>run</th>\n",
       "      <th>type</th>\n",
       "      <th>module</th>\n",
       "      <th>name</th>\n",
       "      <th>attrname</th>\n",
       "      <th>attrvalue</th>\n",
       "      <th>vectime</th>\n",
       "      <th>vecvalue</th>\n",
       "    </tr>\n",
       "  </thead>\n",
       "  <tbody>\n",
       "    <tr>\n",
       "      <th>168</th>\n",
       "      <td>VoIP-UL-0-20250707-14:40:08-1607763</td>\n",
       "      <td>vector</td>\n",
       "      <td>Highway5G.server.ppp[0].queue</td>\n",
       "      <td>queueLength:vector</td>\n",
       "      <td>NaN</td>\n",
       "      <td>NaN</td>\n",
       "      <td>0 0 0 0 0</td>\n",
       "      <td>0 0 0 0 0</td>\n",
       "    </tr>\n",
       "    <tr>\n",
       "      <th>175</th>\n",
       "      <td>VoIP-UL-0-20250707-14:40:08-1607763</td>\n",
       "      <td>vector</td>\n",
       "      <td>Highway5G.server.ppp[0].queue</td>\n",
       "      <td>queueBitLength:vector</td>\n",
       "      <td>NaN</td>\n",
       "      <td>NaN</td>\n",
       "      <td>0 0 0 0 0</td>\n",
       "      <td>0 0 0 0 0</td>\n",
       "    </tr>\n",
       "    <tr>\n",
       "      <th>182</th>\n",
       "      <td>VoIP-UL-0-20250707-14:40:08-1607763</td>\n",
       "      <td>vector</td>\n",
       "      <td>Highway5G.server.ppp[0].ppp</td>\n",
       "      <td>transmissionState:vector</td>\n",
       "      <td>NaN</td>\n",
       "      <td>NaN</td>\n",
       "      <td>0</td>\n",
       "      <td>0</td>\n",
       "    </tr>\n",
       "    <tr>\n",
       "      <th>187</th>\n",
       "      <td>VoIP-UL-0-20250707-14:40:08-1607763</td>\n",
       "      <td>vector</td>\n",
       "      <td>Highway5G.server.udp</td>\n",
       "      <td>passedUpPk:vector(count)</td>\n",
       "      <td>NaN</td>\n",
       "      <td>NaN</td>\n",
       "      <td>0 1.5090003588 1.5280003588 1.5480003588 1.568...</td>\n",
       "      <td>0 1 2 3 4 5 6 7 8 9 10 11 12 13 14 15 16 17 18...</td>\n",
       "    </tr>\n",
       "    <tr>\n",
       "      <th>192</th>\n",
       "      <td>VoIP-UL-0-20250707-14:40:08-1607763</td>\n",
       "      <td>vector</td>\n",
       "      <td>Highway5G.server.udp</td>\n",
       "      <td>droppedPkWrongPort:vector(count)</td>\n",
       "      <td>NaN</td>\n",
       "      <td>NaN</td>\n",
       "      <td>0</td>\n",
       "      <td>0</td>\n",
       "    </tr>\n",
       "  </tbody>\n",
       "</table>\n",
       "</div>"
      ],
      "text/plain": [
       "                                     run    type  \\\n",
       "168  VoIP-UL-0-20250707-14:40:08-1607763  vector   \n",
       "175  VoIP-UL-0-20250707-14:40:08-1607763  vector   \n",
       "182  VoIP-UL-0-20250707-14:40:08-1607763  vector   \n",
       "187  VoIP-UL-0-20250707-14:40:08-1607763  vector   \n",
       "192  VoIP-UL-0-20250707-14:40:08-1607763  vector   \n",
       "\n",
       "                            module                              name attrname  \\\n",
       "168  Highway5G.server.ppp[0].queue                queueLength:vector      NaN   \n",
       "175  Highway5G.server.ppp[0].queue             queueBitLength:vector      NaN   \n",
       "182    Highway5G.server.ppp[0].ppp          transmissionState:vector      NaN   \n",
       "187           Highway5G.server.udp          passedUpPk:vector(count)      NaN   \n",
       "192           Highway5G.server.udp  droppedPkWrongPort:vector(count)      NaN   \n",
       "\n",
       "    attrvalue                                            vectime  \\\n",
       "168       NaN                                          0 0 0 0 0   \n",
       "175       NaN                                          0 0 0 0 0   \n",
       "182       NaN                                                  0   \n",
       "187       NaN  0 1.5090003588 1.5280003588 1.5480003588 1.568...   \n",
       "192       NaN                                                  0   \n",
       "\n",
       "                                              vecvalue  \n",
       "168                                          0 0 0 0 0  \n",
       "175                                          0 0 0 0 0  \n",
       "182                                                  0  \n",
       "187  0 1 2 3 4 5 6 7 8 9 10 11 12 13 14 15 16 17 18...  \n",
       "192                                                  0  "
      ]
     },
     "execution_count": 1,
     "metadata": {},
     "output_type": "execute_result"
    }
   ],
   "source": [
    "import pandas as pd\n",
    "import re\n",
    "\n",
    "# carrega tudo\n",
    "df = pd.read_csv(\"cenarioB.csv\")\n",
    "\n",
    "# Filtrar apenas as linhas do tipo \"vector\"\n",
    "df_vectors = df[df['type'] == 'vector'].copy()\n",
    "\n",
    "# exibe só as 5 primeiras linhas de vetores\n",
    "df_vectors.head()"
   ]
  },
  {
   "cell_type": "code",
   "execution_count": 2,
   "id": "18ff51ce",
   "metadata": {},
   "outputs": [],
   "source": [
    "def build_df(param, column_name):\n",
    "    item_df = df_vectors[df_vectors['name'].str.contains(param, case=False, na=False)]\n",
    "\n",
    "    timestamps = []\n",
    "    items = []\n",
    "    cars = []\n",
    "\n",
    "    for _, row in item_df.iterrows():\n",
    "        # separa valores de tempo e valor do vetor\n",
    "        times = str(row['vectime']).split()\n",
    "        values = str(row['vecvalue']).split()\n",
    "        \n",
    "        # extrai número do carro do módulo\n",
    "        match = re.search(r'car\\[(\\d+)\\]', row['module'])\n",
    "        car_number = int(match.group(1)) if match else None\n",
    "        \n",
    "        for t, v in zip(times, values):\n",
    "            timestamps.append(float(t))\n",
    "            items.append(float(v))\n",
    "            cars.append(car_number)\n",
    "\n",
    "    # monta o dataframe final\n",
    "    partial_df = pd.DataFrame({\n",
    "        \"timestamp\": timestamps,\n",
    "        column_name: items,\n",
    "        \"car\": cars\n",
    "    })\n",
    "\n",
    "    # ordena por timestamp\n",
    "    partial_df = partial_df.sort_values(by=\"timestamp\").reset_index(drop=True)\n",
    "    partial_df = (\n",
    "        partial_df.groupby(['timestamp', 'car'])\n",
    "        .first()\n",
    "        .reset_index()\n",
    "    )\n",
    "\n",
    "    return partial_df"
   ]
  },
  {
   "cell_type": "code",
   "execution_count": 3,
   "id": "79945920",
   "metadata": {},
   "outputs": [],
   "source": [
    "serving_cell_df = build_df(\"servingCell\", \"serving_cell\")\n",
    "mac_delay_ul_df = build_df(\"macDelayUL\", \"mac_delay_ul\")\n",
    "mac_delay_dl_df = build_df(\"macDelayUL\", \"mac_delay_dl\")\n",
    "average_cqi_ul_df = build_df(\"averageCqiDL\", \"average_cqi_ul\")\n",
    "average_cqi_dl_df = build_df(\"averageCqiUL\", \"average_cqi_dl\")\n",
    "throughput_df = build_df(\"voIPGeneratedThroughput\", \"throughput\")"
   ]
  },
  {
   "cell_type": "code",
   "execution_count": 4,
   "id": "430a8aab",
   "metadata": {},
   "outputs": [],
   "source": [
    "def merge_dfs(param, final_df, new_df):\n",
    "    params = {\n",
    "        \"mac_delay_ul\": \"zero\",\n",
    "        \"mac_delay_dl\": \"zero\",\n",
    "        \"average_cqi_ul\": \"ffill\",\n",
    "        \"average_cqi_dl\": \"ffill\",\n",
    "        \"throughput\": \"zero\"\n",
    "    }\n",
    "\n",
    "    final_df = pd.merge(\n",
    "        final_df,\n",
    "        new_df,\n",
    "        on=[\"timestamp\", \"car\"],\n",
    "        how=\"outer\"\n",
    "    )\n",
    "\n",
    "    # regra de preenchimento\n",
    "    if params[param] == \"zero\":\n",
    "        final_df[param] = final_df[param].fillna(0)\n",
    "    elif params[param] == \"ffill\":\n",
    "        final_df[param] = final_df.groupby(\"car\")[param].ffill()\n",
    "        # se ainda existir NaN no início (não tem valor antes)\n",
    "        final_df[param] = final_df[param].fillna(0)\n",
    "    \n",
    "    return final_df"
   ]
  },
  {
   "cell_type": "code",
   "execution_count": 5,
   "id": "415bc4f5",
   "metadata": {},
   "outputs": [],
   "source": [
    "# 1) Começa do serving_cell como referência\n",
    "final_df = serving_cell_df.copy()\n",
    "\n",
    "# 2) Lista dos demais dataframes com as respectivas regras\n",
    "# form: (dataframe, nome da coluna, regra de merge)\n",
    "parametros = [\n",
    "    (mac_delay_ul_df, \"mac_delay_ul\", \"zero\"),\n",
    "    (mac_delay_dl_df, \"mac_delay_dl\", \"zero\"),\n",
    "    (average_cqi_ul_df, \"average_cqi_ul\", \"ffill\"),\n",
    "    (average_cqi_dl_df, \"average_cqi_dl\", \"ffill\"),\n",
    "    (throughput_df, \"throughput\", \"zero\"),\n",
    "]"
   ]
  },
  {
   "cell_type": "code",
   "execution_count": 6,
   "id": "af764c83",
   "metadata": {},
   "outputs": [
    {
     "data": {
      "text/plain": [
       "(24005, 4)"
      ]
     },
     "execution_count": 6,
     "metadata": {},
     "output_type": "execute_result"
    }
   ],
   "source": [
    "final_df = merge_dfs(\"mac_delay_ul\", final_df, mac_delay_ul_df)\n",
    "final_df.shape"
   ]
  },
  {
   "cell_type": "code",
   "execution_count": 7,
   "id": "2653a663",
   "metadata": {},
   "outputs": [
    {
     "data": {
      "text/plain": [
       "(24005, 5)"
      ]
     },
     "execution_count": 7,
     "metadata": {},
     "output_type": "execute_result"
    }
   ],
   "source": [
    "final_df = merge_dfs(\"mac_delay_dl\", final_df, mac_delay_dl_df)\n",
    "final_df.shape"
   ]
  },
  {
   "cell_type": "code",
   "execution_count": 8,
   "id": "3bcbf858",
   "metadata": {},
   "outputs": [
    {
     "data": {
      "text/plain": [
       "(24005, 6)"
      ]
     },
     "execution_count": 8,
     "metadata": {},
     "output_type": "execute_result"
    }
   ],
   "source": [
    "final_df = merge_dfs(\"average_cqi_ul\", final_df, average_cqi_ul_df)\n",
    "final_df.shape"
   ]
  },
  {
   "cell_type": "code",
   "execution_count": 9,
   "id": "11680ec3",
   "metadata": {},
   "outputs": [
    {
     "data": {
      "text/plain": [
       "(68231, 7)"
      ]
     },
     "execution_count": 9,
     "metadata": {},
     "output_type": "execute_result"
    }
   ],
   "source": [
    "final_df = merge_dfs(\"average_cqi_dl\", final_df, average_cqi_dl_df)\n",
    "final_df.shape"
   ]
  },
  {
   "cell_type": "code",
   "execution_count": 10,
   "id": "d06eaf3e",
   "metadata": {},
   "outputs": [
    {
     "data": {
      "text/plain": [
       "(88885, 8)"
      ]
     },
     "execution_count": 10,
     "metadata": {},
     "output_type": "execute_result"
    }
   ],
   "source": [
    "final_df = merge_dfs(\"throughput\", final_df, throughput_df)\n",
    "final_df.shape"
   ]
  },
  {
   "cell_type": "code",
   "execution_count": 11,
   "id": "a1398017",
   "metadata": {},
   "outputs": [],
   "source": [
    "final_df[\"serving_cell\"] = final_df.groupby(\"car\")[\"serving_cell\"].ffill()\n",
    "final_df[\"serving_cell\"] = final_df[\"serving_cell\"].fillna(0)"
   ]
  },
  {
   "cell_type": "code",
   "execution_count": 12,
   "id": "700e1977",
   "metadata": {},
   "outputs": [],
   "source": [
    "for col in [\"average_cqi_ul\", \"average_cqi_dl\"]:\n",
    "    final_df[col] = final_df.groupby(\"car\")[col].ffill().fillna(0)"
   ]
  },
  {
   "cell_type": "code",
   "execution_count": 13,
   "id": "c0b30ef7",
   "metadata": {},
   "outputs": [
    {
     "data": {
      "text/html": [
       "<div>\n",
       "<style scoped>\n",
       "    .dataframe tbody tr th:only-of-type {\n",
       "        vertical-align: middle;\n",
       "    }\n",
       "\n",
       "    .dataframe tbody tr th {\n",
       "        vertical-align: top;\n",
       "    }\n",
       "\n",
       "    .dataframe thead th {\n",
       "        text-align: right;\n",
       "    }\n",
       "</style>\n",
       "<table border=\"1\" class=\"dataframe\">\n",
       "  <thead>\n",
       "    <tr style=\"text-align: right;\">\n",
       "      <th></th>\n",
       "      <th>timestamp</th>\n",
       "      <th>car</th>\n",
       "      <th>serving_cell</th>\n",
       "      <th>mac_delay_ul</th>\n",
       "      <th>mac_delay_dl</th>\n",
       "      <th>average_cqi_ul</th>\n",
       "      <th>average_cqi_dl</th>\n",
       "      <th>throughput</th>\n",
       "    </tr>\n",
       "  </thead>\n",
       "  <tbody>\n",
       "    <tr>\n",
       "      <th>0</th>\n",
       "      <td>1.500</td>\n",
       "      <td>0</td>\n",
       "      <td>0.0</td>\n",
       "      <td>0.000</td>\n",
       "      <td>0.000</td>\n",
       "      <td>0.0</td>\n",
       "      <td>0.0</td>\n",
       "      <td>26.666667</td>\n",
       "    </tr>\n",
       "    <tr>\n",
       "      <th>1</th>\n",
       "      <td>1.505</td>\n",
       "      <td>0</td>\n",
       "      <td>0.0</td>\n",
       "      <td>NaN</td>\n",
       "      <td>NaN</td>\n",
       "      <td>0.0</td>\n",
       "      <td>14.0</td>\n",
       "      <td>0.000000</td>\n",
       "    </tr>\n",
       "    <tr>\n",
       "      <th>2</th>\n",
       "      <td>1.509</td>\n",
       "      <td>0</td>\n",
       "      <td>0.0</td>\n",
       "      <td>0.004</td>\n",
       "      <td>0.004</td>\n",
       "      <td>0.0</td>\n",
       "      <td>14.0</td>\n",
       "      <td>0.000000</td>\n",
       "    </tr>\n",
       "    <tr>\n",
       "      <th>3</th>\n",
       "      <td>1.520</td>\n",
       "      <td>0</td>\n",
       "      <td>0.0</td>\n",
       "      <td>NaN</td>\n",
       "      <td>NaN</td>\n",
       "      <td>0.0</td>\n",
       "      <td>14.0</td>\n",
       "      <td>52.631579</td>\n",
       "    </tr>\n",
       "    <tr>\n",
       "      <th>4</th>\n",
       "      <td>1.524</td>\n",
       "      <td>0</td>\n",
       "      <td>0.0</td>\n",
       "      <td>NaN</td>\n",
       "      <td>NaN</td>\n",
       "      <td>0.0</td>\n",
       "      <td>14.0</td>\n",
       "      <td>0.000000</td>\n",
       "    </tr>\n",
       "  </tbody>\n",
       "</table>\n",
       "</div>"
      ],
      "text/plain": [
       "   timestamp  car  serving_cell  mac_delay_ul  mac_delay_dl  average_cqi_ul  \\\n",
       "0      1.500    0           0.0         0.000         0.000             0.0   \n",
       "1      1.505    0           0.0           NaN           NaN             0.0   \n",
       "2      1.509    0           0.0         0.004         0.004             0.0   \n",
       "3      1.520    0           0.0           NaN           NaN             0.0   \n",
       "4      1.524    0           0.0           NaN           NaN             0.0   \n",
       "\n",
       "   average_cqi_dl  throughput  \n",
       "0             0.0   26.666667  \n",
       "1            14.0    0.000000  \n",
       "2            14.0    0.000000  \n",
       "3            14.0   52.631579  \n",
       "4            14.0    0.000000  "
      ]
     },
     "execution_count": 13,
     "metadata": {},
     "output_type": "execute_result"
    }
   ],
   "source": [
    "final_df = final_df.sort_values([\"car\", \"timestamp\"]).reset_index(drop=True)\n",
    "final_df.head()"
   ]
  },
  {
   "cell_type": "code",
   "execution_count": 14,
   "id": "aa54ffe4",
   "metadata": {},
   "outputs": [],
   "source": [
    "# vamos inicializar a coluna de handover\n",
    "final_df[\"handover\"] = 0\n",
    "\n",
    "# percorre cada carro separadamente\n",
    "for car_id, group in final_df.groupby(\"car\"):\n",
    "    last_valid_cell = None\n",
    "    \n",
    "    for idx, row in group.iterrows():\n",
    "        current_cell = row[\"serving_cell\"]\n",
    "        \n",
    "        # ignora 0\n",
    "        if current_cell == 0:\n",
    "            continue\n",
    "        \n",
    "        # se houve troca de servingCell real\n",
    "        if last_valid_cell is None:\n",
    "            last_valid_cell = current_cell\n",
    "        elif current_cell != last_valid_cell:\n",
    "            # houve mudança (handover)\n",
    "            final_df.loc[idx, \"handover\"] = 1\n",
    "            last_valid_cell = current_cell\n"
   ]
  },
  {
   "cell_type": "code",
   "execution_count": 15,
   "id": "199897e9",
   "metadata": {},
   "outputs": [
    {
     "data": {
      "text/html": [
       "<div>\n",
       "<style scoped>\n",
       "    .dataframe tbody tr th:only-of-type {\n",
       "        vertical-align: middle;\n",
       "    }\n",
       "\n",
       "    .dataframe tbody tr th {\n",
       "        vertical-align: top;\n",
       "    }\n",
       "\n",
       "    .dataframe thead th {\n",
       "        text-align: right;\n",
       "    }\n",
       "</style>\n",
       "<table border=\"1\" class=\"dataframe\">\n",
       "  <thead>\n",
       "    <tr style=\"text-align: right;\">\n",
       "      <th></th>\n",
       "      <th>timestamp</th>\n",
       "      <th>car</th>\n",
       "      <th>serving_cell</th>\n",
       "      <th>mac_delay_ul</th>\n",
       "      <th>mac_delay_dl</th>\n",
       "      <th>average_cqi_ul</th>\n",
       "      <th>average_cqi_dl</th>\n",
       "      <th>throughput</th>\n",
       "      <th>handover</th>\n",
       "    </tr>\n",
       "  </thead>\n",
       "  <tbody>\n",
       "    <tr>\n",
       "      <th>0</th>\n",
       "      <td>1.500</td>\n",
       "      <td>0</td>\n",
       "      <td>0.0</td>\n",
       "      <td>0.000</td>\n",
       "      <td>0.000</td>\n",
       "      <td>0.0</td>\n",
       "      <td>0.0</td>\n",
       "      <td>26.666667</td>\n",
       "      <td>0</td>\n",
       "    </tr>\n",
       "    <tr>\n",
       "      <th>1</th>\n",
       "      <td>1.505</td>\n",
       "      <td>0</td>\n",
       "      <td>0.0</td>\n",
       "      <td>NaN</td>\n",
       "      <td>NaN</td>\n",
       "      <td>0.0</td>\n",
       "      <td>14.0</td>\n",
       "      <td>0.000000</td>\n",
       "      <td>0</td>\n",
       "    </tr>\n",
       "    <tr>\n",
       "      <th>2</th>\n",
       "      <td>1.509</td>\n",
       "      <td>0</td>\n",
       "      <td>0.0</td>\n",
       "      <td>0.004</td>\n",
       "      <td>0.004</td>\n",
       "      <td>0.0</td>\n",
       "      <td>14.0</td>\n",
       "      <td>0.000000</td>\n",
       "      <td>0</td>\n",
       "    </tr>\n",
       "    <tr>\n",
       "      <th>3</th>\n",
       "      <td>1.520</td>\n",
       "      <td>0</td>\n",
       "      <td>0.0</td>\n",
       "      <td>NaN</td>\n",
       "      <td>NaN</td>\n",
       "      <td>0.0</td>\n",
       "      <td>14.0</td>\n",
       "      <td>52.631579</td>\n",
       "      <td>0</td>\n",
       "    </tr>\n",
       "    <tr>\n",
       "      <th>4</th>\n",
       "      <td>1.524</td>\n",
       "      <td>0</td>\n",
       "      <td>0.0</td>\n",
       "      <td>NaN</td>\n",
       "      <td>NaN</td>\n",
       "      <td>0.0</td>\n",
       "      <td>14.0</td>\n",
       "      <td>0.000000</td>\n",
       "      <td>0</td>\n",
       "    </tr>\n",
       "  </tbody>\n",
       "</table>\n",
       "</div>"
      ],
      "text/plain": [
       "   timestamp  car  serving_cell  mac_delay_ul  mac_delay_dl  average_cqi_ul  \\\n",
       "0      1.500    0           0.0         0.000         0.000             0.0   \n",
       "1      1.505    0           0.0           NaN           NaN             0.0   \n",
       "2      1.509    0           0.0         0.004         0.004             0.0   \n",
       "3      1.520    0           0.0           NaN           NaN             0.0   \n",
       "4      1.524    0           0.0           NaN           NaN             0.0   \n",
       "\n",
       "   average_cqi_dl  throughput  handover  \n",
       "0             0.0   26.666667         0  \n",
       "1            14.0    0.000000         0  \n",
       "2            14.0    0.000000         0  \n",
       "3            14.0   52.631579         0  \n",
       "4            14.0    0.000000         0  "
      ]
     },
     "execution_count": 15,
     "metadata": {},
     "output_type": "execute_result"
    }
   ],
   "source": [
    "final_df.head()"
   ]
  },
  {
   "cell_type": "code",
   "execution_count": 16,
   "id": "5bc5b4f6",
   "metadata": {},
   "outputs": [
    {
     "name": "stdout",
     "output_type": "stream",
     "text": [
      "   time vehicle_id    pos_x    pos_y  speed   angle          lane  car\n",
      "0   1.0       veh0  1840.46  8646.03  14.72  151.19  -858877187_0    0\n",
      "1   2.0       veh0  1847.48  8633.26  14.58  151.19  -858877187_0    0\n",
      "2   3.0       veh0  1854.22  8621.01  13.98  151.19  -858877187_0    0\n",
      "3   4.0       veh0  1862.14  8609.46  14.13  135.18  -858877187_0    0\n",
      "4   5.0       veh0  1873.60  8601.24  14.20  120.63  -858877187_0    0\n"
     ]
    }
   ],
   "source": [
    "positions = pd.read_csv(\"positionsB.csv\")\n",
    "positions[\"car\"] = positions[\"vehicle_id\"].str.extract(r\"(\\d+)\").astype(int)\n",
    "positions.rename(columns={\"x\": \"pos_x\", \"y\": \"pos_y\"}, inplace=True)\n",
    "positions = positions.sort_values([\"car\", \"time\"]).reset_index(drop=True)\n",
    "final_df = final_df.sort_values([\"car\", \"timestamp\"]).reset_index(drop=True)\n",
    "\n",
    "print(positions.head())"
   ]
  },
  {
   "cell_type": "code",
   "execution_count": 17,
   "id": "61f310f5",
   "metadata": {},
   "outputs": [],
   "source": [
    "import numpy as np\n",
    "\n",
    "# build index para pesquisa rápida\n",
    "\n",
    "def pegar_pos_mais_proxima(row):\n",
    "    car_id = row[\"car\"]\n",
    "    timestamp = row[\"timestamp\"]\n",
    "    \n",
    "    g = positions[positions[\"car\"] == car_id]\n",
    "    \n",
    "    delta = 1e-6\n",
    "    anteriores = g[g[\"time\"] <= (timestamp + delta)]\n",
    "    if anteriores.empty:\n",
    "        return pd.Series([np.nan, np.nan, np.nan, np.nan])\n",
    "    \n",
    "    linha = anteriores.iloc[-1]\n",
    "    return pd.Series([linha[\"pos_x\"], linha[\"pos_y\"], linha[\"speed\"], linha[\"angle\"]])\n",
    "\n",
    "\n",
    "# aplicar\n",
    "final_df[[\"pos_x\",\"pos_y\",\"speed\",\"angle\"]] = final_df.apply(pegar_pos_mais_proxima, axis=1)"
   ]
  },
  {
   "cell_type": "code",
   "execution_count": 18,
   "id": "6a419633",
   "metadata": {},
   "outputs": [
    {
     "name": "stdout",
     "output_type": "stream",
     "text": [
      "   timestamp  car  serving_cell  mac_delay_ul  mac_delay_dl  average_cqi_ul  \\\n",
      "0      1.500    0           0.0         0.000         0.000             0.0   \n",
      "1      1.505    0           0.0           NaN           NaN             0.0   \n",
      "2      1.509    0           0.0         0.004         0.004             0.0   \n",
      "3      1.520    0           0.0           NaN           NaN             0.0   \n",
      "4      1.524    0           0.0           NaN           NaN             0.0   \n",
      "\n",
      "   average_cqi_dl  throughput  handover    pos_x    pos_y  speed   angle  \n",
      "0             0.0   26.666667         0  1840.46  8646.03  14.72  151.19  \n",
      "1            14.0    0.000000         0  1840.46  8646.03  14.72  151.19  \n",
      "2            14.0    0.000000         0  1840.46  8646.03  14.72  151.19  \n",
      "3            14.0   52.631579         0  1840.46  8646.03  14.72  151.19  \n",
      "4            14.0    0.000000         0  1840.46  8646.03  14.72  151.19  \n"
     ]
    }
   ],
   "source": [
    "print(final_df.head())"
   ]
  },
  {
   "cell_type": "code",
   "execution_count": 19,
   "id": "e006817d",
   "metadata": {},
   "outputs": [],
   "source": [
    "final_df[\"next_serving_cell\"] = final_df.groupby(\"car\")[\"serving_cell\"].shift(-1).fillna(0).astype(int)"
   ]
  },
  {
   "cell_type": "code",
   "execution_count": 20,
   "id": "8c182ff0",
   "metadata": {},
   "outputs": [],
   "source": [
    "final_df[\"delta_x\"] = final_df.groupby(\"car\")[\"pos_x\"].diff().fillna(0)\n",
    "final_df[\"delta_y\"] = final_df.groupby(\"car\")[\"pos_y\"].diff().fillna(0)"
   ]
  },
  {
   "cell_type": "code",
   "execution_count": 21,
   "id": "5095fd69",
   "metadata": {},
   "outputs": [],
   "source": [
    "final_df[\"accel\"] = final_df.groupby(\"car\")[\"speed\"].diff().fillna(0)"
   ]
  },
  {
   "cell_type": "code",
   "execution_count": 22,
   "id": "f519cbb2",
   "metadata": {},
   "outputs": [],
   "source": [
    "final_df[\"mac_delay_ul\"] = final_df[\"mac_delay_ul\"].fillna(0)\n",
    "final_df[\"mac_delay_dl\"] = final_df[\"mac_delay_dl\"].fillna(0)"
   ]
  },
  {
   "cell_type": "code",
   "execution_count": 23,
   "id": "35fb970f",
   "metadata": {},
   "outputs": [],
   "source": [
    "final_df[\"scenario\"] = \"B\"  # para o bairro"
   ]
  },
  {
   "cell_type": "code",
   "execution_count": 24,
   "id": "1678c32d",
   "metadata": {},
   "outputs": [
    {
     "name": "stdout",
     "output_type": "stream",
     "text": [
      "   timestamp  car  serving_cell  mac_delay_ul  mac_delay_dl  average_cqi_ul  \\\n",
      "0      1.500    0           0.0         0.000         0.000             0.0   \n",
      "1      1.505    0           0.0         0.000         0.000             0.0   \n",
      "2      1.509    0           0.0         0.004         0.004             0.0   \n",
      "3      1.520    0           0.0         0.000         0.000             0.0   \n",
      "4      1.524    0           0.0         0.000         0.000             0.0   \n",
      "5      1.528    0           0.0         0.004         0.004             0.0   \n",
      "6      1.540    0           0.0         0.000         0.000             0.0   \n",
      "7      1.544    0           0.0         0.000         0.000             0.0   \n",
      "8      1.548    0           0.0         0.004         0.004             0.0   \n",
      "9      1.560    0           0.0         0.000         0.000             0.0   \n",
      "\n",
      "   average_cqi_dl  throughput  handover    pos_x    pos_y  speed   angle  \\\n",
      "0             0.0   26.666667         0  1840.46  8646.03  14.72  151.19   \n",
      "1            14.0    0.000000         0  1840.46  8646.03  14.72  151.19   \n",
      "2            14.0    0.000000         0  1840.46  8646.03  14.72  151.19   \n",
      "3            14.0   52.631579         0  1840.46  8646.03  14.72  151.19   \n",
      "4            14.0    0.000000         0  1840.46  8646.03  14.72  151.19   \n",
      "5            14.0    0.000000         0  1840.46  8646.03  14.72  151.19   \n",
      "6            14.0   77.922078         0  1840.46  8646.03  14.72  151.19   \n",
      "7            14.0    0.000000         0  1840.46  8646.03  14.72  151.19   \n",
      "8            14.0    0.000000         0  1840.46  8646.03  14.72  151.19   \n",
      "9            14.0  102.564103         0  1840.46  8646.03  14.72  151.19   \n",
      "\n",
      "   next_serving_cell  delta_x  delta_y  accel scenario  \n",
      "0                  0      0.0      0.0    0.0        B  \n",
      "1                  0      0.0      0.0    0.0        B  \n",
      "2                  0      0.0      0.0    0.0        B  \n",
      "3                  0      0.0      0.0    0.0        B  \n",
      "4                  0      0.0      0.0    0.0        B  \n",
      "5                  0      0.0      0.0    0.0        B  \n",
      "6                  0      0.0      0.0    0.0        B  \n",
      "7                  0      0.0      0.0    0.0        B  \n",
      "8                  0      0.0      0.0    0.0        B  \n",
      "9                  0      0.0      0.0    0.0        B  \n"
     ]
    }
   ],
   "source": [
    "print(final_df.head(10))"
   ]
  },
  {
   "cell_type": "code",
   "execution_count": 25,
   "id": "5fdbc553",
   "metadata": {},
   "outputs": [],
   "source": [
    "final_df.to_csv(\"handover_dataset_B.csv\", index=False)"
   ]
  },
  {
   "cell_type": "code",
   "execution_count": 29,
   "id": "57745cef",
   "metadata": {},
   "outputs": [
    {
     "name": "stdout",
     "output_type": "stream",
     "text": [
      "scenario\n",
      "A    429710\n",
      "C    368891\n",
      "B     88885\n",
      "Name: count, dtype: int64\n",
      "(887486, 18)\n"
     ]
    }
   ],
   "source": [
    "import pandas as pd\n",
    "\n",
    "# Carrega os três arquivos\n",
    "df1 = pd.read_csv(\"handover_dataset_A.csv\")\n",
    "df2 = pd.read_csv(\"handover_dataset_B.csv\")\n",
    "df3 = pd.read_csv(\"handover_dataset_C.csv\")\n",
    "\n",
    "# Concatena todos em um único DataFrame\n",
    "df_total = pd.concat([df1, df2, df3], ignore_index=True)\n",
    "\n",
    "# Verifica rapidamente o resultado\n",
    "print(df_total[\"scenario\"].value_counts())\n",
    "print(df_total.shape)\n",
    "\n",
    "df_total.to_csv(\"handover_dataset.csv\", index=False)"
   ]
  }
 ],
 "metadata": {
  "kernelspec": {
   "display_name": "Python 3",
   "language": "python",
   "name": "python3"
  },
  "language_info": {
   "codemirror_mode": {
    "name": "ipython",
    "version": 3
   },
   "file_extension": ".py",
   "mimetype": "text/x-python",
   "name": "python",
   "nbconvert_exporter": "python",
   "pygments_lexer": "ipython3",
   "version": "3.10.12"
  }
 },
 "nbformat": 4,
 "nbformat_minor": 5
}
